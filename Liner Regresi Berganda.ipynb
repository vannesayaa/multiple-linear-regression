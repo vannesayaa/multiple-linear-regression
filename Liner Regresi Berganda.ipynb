{
 "cells": [
  {
   "cell_type": "code",
   "execution_count": 1,
   "id": "24b65d5c-c4dd-4e98-99a2-07c77a8dcae6",
   "metadata": {},
   "outputs": [
    {
     "data": {
      "text/html": [
       "<div>\n",
       "<style scoped>\n",
       "    .dataframe tbody tr th:only-of-type {\n",
       "        vertical-align: middle;\n",
       "    }\n",
       "\n",
       "    .dataframe tbody tr th {\n",
       "        vertical-align: top;\n",
       "    }\n",
       "\n",
       "    .dataframe thead th {\n",
       "        text-align: right;\n",
       "    }\n",
       "</style>\n",
       "<table border=\"1\" class=\"dataframe\">\n",
       "  <thead>\n",
       "    <tr style=\"text-align: right;\">\n",
       "      <th></th>\n",
       "      <th>y</th>\n",
       "      <th>x1</th>\n",
       "      <th>x2</th>\n",
       "      <th>x3</th>\n",
       "      <th>x4</th>\n",
       "      <th>x5</th>\n",
       "      <th>x6</th>\n",
       "      <th>x7</th>\n",
       "      <th>x8</th>\n",
       "      <th>x9</th>\n",
       "    </tr>\n",
       "  </thead>\n",
       "  <tbody>\n",
       "    <tr>\n",
       "      <th>0</th>\n",
       "      <td>10</td>\n",
       "      <td>2113</td>\n",
       "      <td>1985</td>\n",
       "      <td>38.9</td>\n",
       "      <td>64.7</td>\n",
       "      <td>4</td>\n",
       "      <td>868</td>\n",
       "      <td>59.7</td>\n",
       "      <td>2205</td>\n",
       "      <td>1917</td>\n",
       "    </tr>\n",
       "    <tr>\n",
       "      <th>1</th>\n",
       "      <td>11</td>\n",
       "      <td>2003</td>\n",
       "      <td>2855</td>\n",
       "      <td>38.8</td>\n",
       "      <td>61.3</td>\n",
       "      <td>3</td>\n",
       "      <td>615</td>\n",
       "      <td>55.0</td>\n",
       "      <td>2096</td>\n",
       "      <td>1575</td>\n",
       "    </tr>\n",
       "    <tr>\n",
       "      <th>2</th>\n",
       "      <td>11</td>\n",
       "      <td>2957</td>\n",
       "      <td>1737</td>\n",
       "      <td>40.1</td>\n",
       "      <td>60.0</td>\n",
       "      <td>14</td>\n",
       "      <td>914</td>\n",
       "      <td>65.6</td>\n",
       "      <td>1847</td>\n",
       "      <td>2175</td>\n",
       "    </tr>\n",
       "    <tr>\n",
       "      <th>3</th>\n",
       "      <td>13</td>\n",
       "      <td>2285</td>\n",
       "      <td>2905</td>\n",
       "      <td>41.6</td>\n",
       "      <td>45.3</td>\n",
       "      <td>-4</td>\n",
       "      <td>957</td>\n",
       "      <td>61.4</td>\n",
       "      <td>1903</td>\n",
       "      <td>2476</td>\n",
       "    </tr>\n",
       "    <tr>\n",
       "      <th>4</th>\n",
       "      <td>10</td>\n",
       "      <td>2971</td>\n",
       "      <td>1666</td>\n",
       "      <td>39.2</td>\n",
       "      <td>53.8</td>\n",
       "      <td>15</td>\n",
       "      <td>836</td>\n",
       "      <td>66.1</td>\n",
       "      <td>1457</td>\n",
       "      <td>1866</td>\n",
       "    </tr>\n",
       "  </tbody>\n",
       "</table>\n",
       "</div>"
      ],
      "text/plain": [
       "    y    x1    x2    x3    x4  x5   x6    x7    x8    x9\n",
       "0  10  2113  1985  38.9  64.7   4  868  59.7  2205  1917\n",
       "1  11  2003  2855  38.8  61.3   3  615  55.0  2096  1575\n",
       "2  11  2957  1737  40.1  60.0  14  914  65.6  1847  2175\n",
       "3  13  2285  2905  41.6  45.3  -4  957  61.4  1903  2476\n",
       "4  10  2971  1666  39.2  53.8  15  836  66.1  1457  1866"
      ]
     },
     "execution_count": 1,
     "metadata": {},
     "output_type": "execute_result"
    }
   ],
   "source": [
    "import pandas as pd \n",
    "df = pd.read_csv(\"data_statreg.csv\") \n",
    "df.head() "
   ]
  },
  {
   "cell_type": "code",
   "execution_count": 2,
   "id": "748f59aa-4323-46ba-ba9c-554150db1663",
   "metadata": {},
   "outputs": [
    {
     "name": "stdout",
     "output_type": "stream",
     "text": [
      "                            OLS Regression Results                            \n",
      "==============================================================================\n",
      "Dep. Variable:                      y   R-squared:                       0.816\n",
      "Model:                            OLS   Adj. R-squared:                  0.723\n",
      "Method:                 Least Squares   F-statistic:                     8.846\n",
      "Date:                Tue, 19 Dec 2023   Prob (F-statistic):           5.30e-05\n",
      "Time:                        13:39:16   Log-Likelihood:                -50.468\n",
      "No. Observations:                  28   AIC:                             120.9\n",
      "Df Residuals:                      18   BIC:                             134.3\n",
      "Df Model:                           9                                         \n",
      "Covariance Type:            nonrobust                                         \n",
      "==============================================================================\n",
      "                 coef    std err          t      P>|t|      [0.025      0.975]\n",
      "------------------------------------------------------------------------------\n",
      "const         -7.2919     12.813     -0.569      0.576     -34.211      19.627\n",
      "x1             0.0008      0.002      0.405      0.690      -0.003       0.005\n",
      "x2             0.0036      0.001      4.318      0.000       0.002       0.005\n",
      "x3             0.1222      0.259      0.472      0.643      -0.422       0.666\n",
      "x4             0.0319      0.042      0.767      0.453      -0.056       0.119\n",
      "x5          1.511e-05      0.047      0.000      1.000      -0.098       0.098\n",
      "x6             0.0016      0.003      0.490      0.630      -0.005       0.008\n",
      "x7             0.1544      0.152      1.015      0.324      -0.165       0.474\n",
      "x8            -0.0039      0.002     -1.898      0.074      -0.008       0.000\n",
      "x9            -0.0018      0.001     -1.264      0.222      -0.005       0.001\n",
      "==============================================================================\n",
      "Omnibus:                        0.114   Durbin-Watson:                   1.746\n",
      "Prob(Omnibus):                  0.945   Jarque-Bera (JB):                0.143\n",
      "Skew:                          -0.118   Prob(JB):                        0.931\n",
      "Kurtosis:                       2.742   Cond. No.                     1.60e+05\n",
      "==============================================================================\n",
      "\n",
      "Notes:\n",
      "[1] Standard Errors assume that the covariance matrix of the errors is correctly specified.\n",
      "[2] The condition number is large, 1.6e+05. This might indicate that there are\n",
      "strong multicollinearity or other numerical problems.\n"
     ]
    }
   ],
   "source": [
    "#Memodelkan dengan Regresi Linier Berganda\n",
    "import numpy as np \n",
    "import statsmodels.api as sm \n",
    "x = df[['x1','x2', 'x3', 'x4', 'x5', 'x6', 'x7', 'x8', 'x9']] \n",
    "y = df['y'] \n",
    "x = sm.add_constant(x) \n",
    "model = sm.OLS(y, x).fit() \n",
    "print_model = model.summary() \n",
    "print(print_model) "
   ]
  },
  {
   "cell_type": "code",
   "execution_count": 5,
   "id": "19a8ca52-cb8e-4cae-8fe6-fb7a363eeebc",
   "metadata": {},
   "outputs": [
    {
     "name": "stdout",
     "output_type": "stream",
     "text": [
      "0     7.021545\n",
      "1     9.879878\n",
      "2     8.719891\n",
      "3    10.792301\n",
      "4    10.191417\n",
      "dtype: float64\n"
     ]
    }
   ],
   "source": [
    "prediksi = model.predict(x) \n",
    "print(prediksi.head()) "
   ]
  },
  {
   "cell_type": "code",
   "execution_count": 6,
   "id": "7ae1b9b6-2884-44c3-94b6-fcb8369f4716",
   "metadata": {},
   "outputs": [
    {
     "name": "stdout",
     "output_type": "stream",
     "text": [
      "0    2.978455\n",
      "1    1.120122\n",
      "2    2.280109\n",
      "3    2.207699\n",
      "4   -0.191417\n",
      "dtype: float64\n"
     ]
    }
   ],
   "source": [
    "residual=model.resid \n",
    "print(residual.head()) "
   ]
  },
  {
   "cell_type": "code",
   "execution_count": 10,
   "id": "f367eec4-68f7-42e7-b893-327af8c7902d",
   "metadata": {},
   "outputs": [
    {
     "data": {
      "image/png": "[encoded data removed]",
      "text/plain": [
       "<Figure size 432x288 with 1 Axes>"
      ]
     },
     "metadata": {
      "needs_background": "light"
     },
     "output_type": "display_data"
    }
   ],
   "source": [
    "#Menggambar Plot QQ menggunakan package statmodels\n",
    "import scipy.stats as stats \n",
    "import matplotlib.pyplot as plt\n",
    "fig = sm.qqplot(residual, stats.t, fit=True, line=\"45\") \n",
    "plt.show() \n"
   ]
  },
  {
   "cell_type": "code",
   "execution_count": 25,
   "id": "59e201be-1713-4500-8c11-efae2bf234b1",
   "metadata": {},
   "outputs": [
    {
     "data": {
      "image/png": "[encoded data removed]",
      "text/plain": [
       "<Figure size 432x288 with 1 Axes>"
      ]
     },
     "metadata": {
      "needs_background": "light"
     },
     "output_type": "display_data"
    }
   ],
   "source": [
    "#Plot memeriks asumsi residual tidak terjadi autokorelasi\n",
    "urutan_pengamatan=pd.Series(range(1,29)) \n",
    "plt.scatter(urutan_pengamatan, residual); \n",
    "plt.axhline(0, color='red') \n",
    "plt.xlabel('data urutan'); \n",
    "plt.ylabel('Residual'); \n",
    "plt.xlim([1,29]); "
   ]
  },
  {
   "cell_type": "code",
   "execution_count": 26,
   "id": "12ac96e8-b5da-4951-adeb-700c217b7392",
   "metadata": {},
   "outputs": [
    {
     "data": {
      "image/png": "[encoded data removed]",
      "text/plain": [
       "<Figure size 432x288 with 1 Axes>"
      ]
     },
     "metadata": {
      "needs_background": "light"
     },
     "output_type": "display_data"
    }
   ],
   "source": [
    "#Plot memeriksa asumsi residual tidak terjadi heteroskedastisitas\n",
    "influence = model.get_influence() \n",
    "#menentukan standardized residualnya\n",
    "std_residual = influence.resid_studentized_internal\n",
    "plt.scatter(prediksi, std_residual); \n",
    "plt.axhline(0, color='red') \n",
    "plt.xlabel('prediksi'); \n",
    "plt.ylabel('standardized residual'); "
   ]
  },
  {
   "cell_type": "code",
   "execution_count": 19,
   "id": "662b115b-9b2e-4d13-93a4-a191784273aa",
   "metadata": {},
   "outputs": [
    {
     "data": {
      "text/plain": [
       "[('Jarque-Bera', 0.142611130165314),\n",
       " ('Chi^2 two\\x02tail prob.', 0.931177313378411),\n",
       " ('Skew', -0.1181500374692782),\n",
       " ('Kurtosis', 2.742317276181926)]"
      ]
     },
     "execution_count": 19,
     "metadata": {},
     "output_type": "execute_result"
    }
   ],
   "source": [
    "#Pengujian Jarque Bera untuk memeriksa asumsi residual\n",
    "from statsmodels.compat import lzip \n",
    "import statsmodels.formula.api as smf \n",
    "import statsmodels.stats.api as sms  \n",
    "name = [\"Jarque-Bera\", \"Chi^2 two\u0002tail prob.\", \"Skew\", \"Kurtosis\"] \n",
    "test = sms.jarque_bera(model.resid) \n",
    "lzip(name, test)"
   ]
  },
  {
   "cell_type": "code",
   "execution_count": 20,
   "id": "364fde4e-4cc5-46d0-8664-99e2b8750d98",
   "metadata": {},
   "outputs": [
    {
     "name": "stdout",
     "output_type": "stream",
     "text": [
      "Durbin-Watson: 1.74642082029883\n"
     ]
    }
   ],
   "source": [
    "#Pengujian Durbin-Watson\n",
    "from statsmodels.stats.stattools import durbin_watson \n",
    "dw = durbin_watson(model.resid) \n",
    "print(f\"Durbin-Watson: {dw}\") "
   ]
  },
  {
   "cell_type": "code",
   "execution_count": 21,
   "id": "490faffb-2be2-4b94-8464-e5442b30ba0a",
   "metadata": {},
   "outputs": [
    {
     "data": {
      "text/plain": [
       "[('Lagrange multiplier statistic', 11.011341849276477),\n",
       " ('p-value', 0.2749323117077412),\n",
       " ('f-value', 1.29631684287055),\n",
       " ('f p-value', 0.30449830576491715)]"
      ]
     },
     "execution_count": 21,
     "metadata": {},
     "output_type": "execute_result"
    }
   ],
   "source": [
    "#Pengujian Breush-Pagan\n",
    "from statsmodels.compat import lzip \n",
    "import statsmodels.stats.api as sms \n",
    "names = ['Lagrange multiplier statistic', 'p-value', \n",
    " 'f-value', 'f p-value'] \n",
    "test = sms.het_breuschpagan(model.resid, model.model.\n",
    "exog) \n",
    "lzip(names, test) "
   ]
  },
  {
   "cell_type": "code",
   "execution_count": null,
   "id": "17a2c308-1bd7-4ad1-9637-0cc896f4bc70",
   "metadata": {},
   "outputs": [],
   "source": []
  }
 ],
 "metadata": {
  "kernelspec": {
   "display_name": "Python 3 (ipykernel)",
   "language": "python",
   "name": "python3"
  },
  "language_info": {
   "codemirror_mode": {
    "name": "ipython",
    "version": 3
   },
   "file_extension": ".py",
   "mimetype": "text/x-python",
   "name": "python",
   "nbconvert_exporter": "python",
   "pygments_lexer": "ipython3",
   "version": "3.9.12"
  }
 },
 "nbformat": 4,
 "nbformat_minor": 5
}
